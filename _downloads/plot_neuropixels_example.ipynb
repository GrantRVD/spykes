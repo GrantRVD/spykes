{
  "nbformat_minor": 0, 
  "nbformat": 4, 
  "cells": [
    {
      "execution_count": null, 
      "cell_type": "code", 
      "source": [
        "%matplotlib inline"
      ], 
      "outputs": [], 
      "metadata": {
        "collapsed": false
      }
    }, 
    {
      "source": [
        "\n# Neuropixels Example\n\n\nUse spykes to analyze data from UCL's Neuropixels\n\n\n"
      ], 
      "cell_type": "markdown", 
      "metadata": {}
    }, 
    {
      "execution_count": null, 
      "cell_type": "code", 
      "source": [
        "import warnings\nwarnings.filterwarnings('ignore')\n\nimport matplotlib.pyplot as plt\nplt.style.use('seaborn-ticks')\n# plt.switch_backend('Agg')\n\nimport csv\nimport numpy as np\nimport pandas as pd\nimport scipy.io\nfrom spykes.neurovis import NeuroVis\nfrom spykes.popvis import PopVis"
      ], 
      "outputs": [], 
      "metadata": {
        "collapsed": false
      }
    }, 
    {
      "source": [
        "Neuropixels\n-----------------------------\nNeuropixels is a new recording technique by UCL's `Cortex Lab\n<http://www.ucl.ac.uk/neuropixels>`__ that is able to measure data from\nhundreds of neurons. Below we show how this data can be worked with in Spykes.\n\n0 Download Data\n-----------------------------\n\nDownload all data `here <http://data.cortexlab.net/dualPhase3/data/>`__.\n\n1 Read In Data\n-----------------------------\n\n"
      ], 
      "cell_type": "markdown", 
      "metadata": {}
    }, 
    {
      "execution_count": null, 
      "cell_type": "code", 
      "source": [
        "folderNames = ['posterior', 'frontal']\nFs = 30000.0\n\nstriatum = list()\nmotorCtx = list()\nthalamus = list()\nhippocampus = list()\nvisualCtx = list()\n\n# a lot of this code is adapted from Cortex Lab's MATLAB script\n# see here: http://data.cortexlab.net/dualPhase3/data/script_dualPhase3.m\n\nfor name in folderNames:\n    \n    clusters = np.squeeze(np.load(name + '/spike_clusters.npy'))\n    spikeTimes = (np.squeeze(np.load(name + '/spike_times.npy')))/Fs\n    spikeTemplates = (np.squeeze(np.load(name + '/spike_templates.npy')))\n    \n    temps = (np.squeeze(np.load(name + '/templates.npy')))\n    winv = (np.squeeze(np.load(name + '/whitening_mat_inv.npy')))\n    yCoords = (np.squeeze(np.load(name + '/channel_positions.npy')))[:,1]\n    \n    # frontal times need to align with posterior\n    if (name == 'frontal'):\n        timeCorrection = np.load('timeCorrection.npy')\n        spikeTimes *= timeCorrection[0] \n        spikeTimes += timeCorrection[1]\n    \n    data = np.recfromcsv(name + '/cluster_groups.csv', delimiter = '\\t')\n    cids = np.array([x[0] for x in data])\n    cfg = np.array([x[1] for x in data])\n    \n    \n    # find good clusters and only use those spikes\n    goodClusters = cids[cfg == 'good']\n    goodIndices = (np.in1d(clusters, goodClusters))\n        \n    realSpikes = spikeTimes[goodIndices]\n    realClusters = clusters[goodIndices]\n    realSpikeTemplates = spikeTemplates[goodIndices]\n    \n    # find how many spikes per cluster and then order spikes by which cluster they are in\n    \n    countsPerCluster = np.bincount(realClusters)\n    \n    sort_idx = np.argsort(realClusters) \n    sortedClusters = realClusters[sort_idx]\n    sortedSpikes = realSpikes[sort_idx]\n    sortedSpikeTemplates = realSpikeTemplates[sort_idx]\n    \n    # find depth for each spike\n    # this is translated from Cortex Lab's MATLAB code\n    # for more details, check out the original code here: \n    # https://github.com/cortex-lab/spikes/blob/master/analysis/templatePositionsAmplitudes.m\n    \n    tempsUnW = np.zeros(temps.shape)\n    for t in range(temps.shape[0]):\n        tempsUnW[t,:,:] = np.dot(temps[t,:,:],winv)\n        \n    \n    tempChanAmps = np.max(tempsUnW, axis=1) - np.min(tempsUnW, axis=1)\n    tempsAmps = np.max(tempChanAmps, axis=1)\n    threshVals = tempsAmps * 0.3\n    \n    threshVals = [threshVals for i in range(tempChanAmps.shape[1])]\n    threshVals = np.stack(threshVals, axis=1)\n    \n    tempChanAmps[tempChanAmps < threshVals] = 0\n        \n    yCoords = np.reshape(yCoords, (yCoords.shape[0], 1))\n    tempDepths = np.sum(np.dot(tempChanAmps,yCoords), axis=1) / (np.sum(tempChanAmps,axis=1))\n    \n    sortedSpikeDepths = tempDepths[sortedSpikeTemplates]\n    \n    # create neurons and find region\n                \n    accumulator = 0\n    \n    for i, count in enumerate(countsPerCluster):\n        \n        if count > 0:\n            \n            spiketimes = sortedSpikes[accumulator:accumulator+count]\n            neuron = NeuroVis(spiketimes=spiketimes, name='%d' % (i))\n            clusterDepth = np.mean(sortedSpikeDepths[accumulator:accumulator+count])\n            \n            if name == 'frontal':\n                \n                if (clusterDepth > 0 and clusterDepth < 1550):\n                    striatum.append(neuron)\n                elif (clusterDepth > 1550 and clusterDepth < 3840):\n                    motorCtx.append(neuron)\n            \n            elif name == 'posterior':\n                \n                if (clusterDepth > 0 and clusterDepth < 1634):\n                    thalamus.append(neuron)\n                elif (clusterDepth > 1634 and clusterDepth < 2797):\n                    hippocampus.append(neuron)\n                elif (clusterDepth > 2797 and clusterDepth < 3840):\n                    visualCtx.append(neuron)\n                \n            accumulator += count\n    \n\nprint (\"Striatum (n = %d)\" % len(striatum))\nprint (\"Motor Cortex (n = %d)\" % len(motorCtx))\nprint (\"Thalamus (n = %d)\" % len(thalamus))\nprint (\"Hippocampus (n = %d)\" % len(hippocampus))\nprint (\"Visual Cortex (n = %d)\" % len(visualCtx))"
      ], 
      "outputs": [], 
      "metadata": {
        "collapsed": false
      }
    }, 
    {
      "source": [
        "2 Create Data Frame\n-----------------------------\n\n"
      ], 
      "cell_type": "markdown", 
      "metadata": {}
    }, 
    {
      "execution_count": null, 
      "cell_type": "code", 
      "source": [
        "df = pd.DataFrame()\n\nrawData = scipy.io.loadmat('experiment1stimInfo.mat')\n\ndf['start'] = np.squeeze(rawData['stimStarts'])\ndf['stop'] = np.squeeze(rawData['stimStops'])\ndf['stimulus'] = np.squeeze(rawData['stimIDs'])\n\nprint (df.head())"
      ], 
      "outputs": [], 
      "metadata": {
        "collapsed": false
      }
    }, 
    {
      "source": [
        "3 Start Plotting\n-----------------------------\n3.1 Striatum\n~~~~~~~~~~~~\n\n"
      ], 
      "cell_type": "markdown", 
      "metadata": {}
    }, 
    {
      "execution_count": null, 
      "cell_type": "code", 
      "source": [
        "pop = PopVis(striatum, name='Striatum') \n\nfig = plt.figure(figsize=(30,20))\n\nall_psth = pop.get_all_psth(event='start', df=df, conditions='stimulus', plot=False, binsize=100, window = [-500, 2000])\n\npop.plot_heat_map(all_psth, cond_id=[2, 7, 13], sortorder='descend', neuron_names=False) # cond_id chosen randomly"
      ], 
      "outputs": [], 
      "metadata": {
        "collapsed": false
      }
    }, 
    {
      "execution_count": null, 
      "cell_type": "code", 
      "source": [
        "pop.plot_population_psth(all_psth=all_psth, cond_id=[1, 7, 12])"
      ], 
      "outputs": [], 
      "metadata": {
        "collapsed": false
      }
    }, 
    {
      "source": [
        "3.2 Frontal\n~~~~~~~~~~~~\n\n"
      ], 
      "cell_type": "markdown", 
      "metadata": {}
    }, 
    {
      "execution_count": null, 
      "cell_type": "code", 
      "source": [
        "pop = PopVis(striatum + motorCtx, name='Frontal') \n\nfig = plt.figure(figsize=(30,20))\n\nall_psth = pop.get_all_psth(event='start', df=df, conditions='stimulus', plot=False, binsize=100, window = [-500, 2000])\n\npop.plot_heat_map(all_psth, cond_id=[2, 7, 13], sortorder='descend', neuron_names=False)"
      ], 
      "outputs": [], 
      "metadata": {
        "collapsed": false
      }
    }, 
    {
      "execution_count": null, 
      "cell_type": "code", 
      "source": [
        "pop.plot_population_psth(all_psth=all_psth, cond_id=[1, 7, 12])"
      ], 
      "outputs": [], 
      "metadata": {
        "collapsed": false
      }
    }, 
    {
      "source": [
        "3.3 All Neurons\n~~~~~~~~~~~~\n\n"
      ], 
      "cell_type": "markdown", 
      "metadata": {}
    }, 
    {
      "execution_count": null, 
      "cell_type": "code", 
      "source": [
        "pop = PopVis(striatum + motorCtx + thalamus + hippocampus + visualCtx) \n\nfig = plt.figure(figsize=(30,20))\n\nall_psth = pop.get_all_psth(event='start', df=df, conditions='stimulus', plot=False, binsize=100, window = [-500, 2000])\n\npop.plot_heat_map(all_psth, cond_id=[2, 7, 13], sortorder='descend', neuron_names=False)"
      ], 
      "outputs": [], 
      "metadata": {
        "collapsed": false
      }
    }, 
    {
      "execution_count": null, 
      "cell_type": "code", 
      "source": [
        "pop.plot_population_psth(all_psth=all_psth, cond_id=[1, 7, 12])"
      ], 
      "outputs": [], 
      "metadata": {
        "collapsed": false
      }
    }, 
    {
      "source": [
        "3.4 Striatum vs. Motor Cortex\n~~~~~~~~~~~~\n\n"
      ], 
      "cell_type": "markdown", 
      "metadata": {}
    }, 
    {
      "execution_count": null, 
      "cell_type": "code", 
      "source": [
        "striatumPop = PopVis(striatum, name='Striatum') \nmotorCtxPop = PopVis(motorCtx, name='Motor Cortex') \n\nstriatum_psth = striatumPop.get_all_psth(event='start', df=df, conditions='stimulus', plot=False, binsize=100, window = [-500, 2000])\nmotorCtx_psth = motorCtxPop.get_all_psth(event='start', df=df, conditions='stimulus', plot=False, binsize=100, window = [-500, 2000])"
      ], 
      "outputs": [], 
      "metadata": {
        "collapsed": false
      }
    }, 
    {
      "execution_count": null, 
      "cell_type": "code", 
      "source": [
        "striatumPop.plot_population_psth(all_psth=striatum_psth, cond_id=[1, 7, 12])"
      ], 
      "outputs": [], 
      "metadata": {
        "collapsed": false
      }
    }, 
    {
      "execution_count": null, 
      "cell_type": "code", 
      "source": [
        "motorCtxPop.plot_population_psth(all_psth=motorCtx_psth, cond_id=[1, 7, 12])"
      ], 
      "outputs": [], 
      "metadata": {
        "collapsed": false
      }
    }
  ], 
  "metadata": {
    "kernelspec": {
      "display_name": "Python 2", 
      "name": "python2", 
      "language": "python"
    }, 
    "language_info": {
      "mimetype": "text/x-python", 
      "nbconvert_exporter": "python", 
      "name": "python", 
      "file_extension": ".py", 
      "version": "2.7.12", 
      "pygments_lexer": "ipython2", 
      "codemirror_mode": {
        "version": 2, 
        "name": "ipython"
      }
    }
  }
}